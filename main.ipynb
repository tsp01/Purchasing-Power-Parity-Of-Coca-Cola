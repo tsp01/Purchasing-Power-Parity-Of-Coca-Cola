{
 "cells": [
  {
   "cell_type": "code",
   "execution_count": 1,
   "metadata": {},
   "outputs": [],
   "source": [
    "from datascience import *\n",
    "import numpy as np\n",
    "import re\n",
    "from re import search\n",
    "import requests\n",
    "from bs4 import BeautifulSoup\n",
    "from fuzzywuzzy import fuzz\n",
    "from fuzzywuzzy import process\n",
    "\n",
    "%matplotlib inline\n",
    "import matplotlib.pyplot as plots\n",
    "plots.style.use('fivethirtyeight')"
   ]
  },
  {
   "cell_type": "code",
   "execution_count": 2,
   "metadata": {},
   "outputs": [],
   "source": [
    "# scrape_table function from video demo\n",
    "import pandas as pd\n",
    "def scrape_table(table):\n",
    "    df = pd.read_html(str(table))\n",
    "    df = pd.DataFrame(df[0])\n",
    "    return Table.from_df(df)"
   ]
  },
  {
   "cell_type": "code",
   "execution_count": 22,
   "metadata": {},
   "outputs": [
    {
     "data": {
      "text/html": [
       "<table border=\"1\" class=\"dataframe\">\n",
       "    <thead>\n",
       "        <tr>\n",
       "            <th>Country</th> <th>Coke/Pepsi (0.33 liter bottle)</th>\n",
       "        </tr>\n",
       "    </thead>\n",
       "    <tbody>\n",
       "        <tr>\n",
       "            <td>Kazakhstan</td> <td>0.78                          </td>\n",
       "        </tr>\n",
       "        <tr>\n",
       "            <td>Paraguay  </td> <td>1.18                          </td>\n",
       "        </tr>\n",
       "        <tr>\n",
       "            <td>Portugal  </td> <td>1.96                          </td>\n",
       "        </tr>\n",
       "        <tr>\n",
       "            <td>Greece    </td> <td>2.53                          </td>\n",
       "        </tr>\n",
       "        <tr>\n",
       "            <td>Latvia    </td> <td>1.56                          </td>\n",
       "        </tr>\n",
       "        <tr>\n",
       "            <td>Iran      </td> <td>1.16                          </td>\n",
       "        </tr>\n",
       "        <tr>\n",
       "            <td>Morocco   </td> <td>0.63                          </td>\n",
       "        </tr>\n",
       "        <tr>\n",
       "            <td>Panama    </td> <td>2.04                          </td>\n",
       "        </tr>\n",
       "        <tr>\n",
       "            <td>Guatemala </td> <td>1.38                          </td>\n",
       "        </tr>\n",
       "        <tr>\n",
       "            <td>Iraq      </td> <td>0.58                          </td>\n",
       "        </tr>\n",
       "    </tbody>\n",
       "</table>\n",
       "<p>... (95 rows omitted)</p>"
      ],
      "text/plain": [
       "Country    | Coke/Pepsi (0.33 liter bottle)\n",
       "Kazakhstan | 0.78\n",
       "Paraguay   | 1.18\n",
       "Portugal   | 1.96\n",
       "Greece     | 2.53\n",
       "Latvia     | 1.56\n",
       "Iran       | 1.16\n",
       "Morocco    | 0.63\n",
       "Panama     | 2.04\n",
       "Guatemala  | 1.38\n",
       "Iraq       | 0.58\n",
       "... (95 rows omitted)"
      ]
     },
     "execution_count": 22,
     "metadata": {},
     "output_type": "execute_result"
    }
   ],
   "source": [
    "r = requests.get(\"https://www.numbeo.com/cost-of-living/prices_by_country.jsp?itemId=6&regionCode=019&displayCurrency=CAD\")\n",
    "coke_text = BeautifulSoup(r.text, \"html.parser\")\n",
    "coke_text_table = coke_text.find_all(\"table\")[1]\n",
    "coke_table = scrape_table(coke_text_table).drop(\"Rank\").exclude(28)\n",
    "coke_table"
   ]
  },
  {
   "cell_type": "code",
   "execution_count": 11,
   "metadata": {},
   "outputs": [],
   "source": [
    "def convert(cur_from, cur_to, amount):\n",
    "    payload = {\n",
    "        'from': cur_from,\n",
    "        'to': cur_to,\n",
    "        'amount': amount,\n",
    "        'api_key': '0a5659758c74b6dd01f96fdbc8fab87d'\n",
    "    }\n",
    "    r = requests.get('https://api.currencyscoop.com/v1/convert', params = payload)\n",
    "    currency = r.json()\n",
    "    return currency['response']['value']"
   ]
  },
  {
   "cell_type": "code",
   "execution_count": 21,
   "metadata": {},
   "outputs": [],
   "source": [
    "#stolen shamlessly from example code\n",
    "currency_url = \"https://currencyscoop.com/supported-currencies\"\n",
    "currency_request = requests.get(currency_url)\n",
    "currency_soup = BeautifulSoup(currency_request.text, 'html.parser')\n",
    "currency_table = currency_soup.find(\"table\")\n",
    "currency_codes = scrape_table(currency_table)\n",
    "\n",
    "codes = make_array()\n",
    "for each_country in currency_codes.column(\"Currency\"):\n",
    "    codes = np.append(codes, each_country[-3:])\n",
    "\n",
    "currency_codes = currency_codes.with_column(\"Code\", codes)\n",
    "\n",
    "def strip_code(country):\n",
    "    return country[:-3]\n",
    "\n",
    "currency_codes[\"Currency\"] = currency_codes.apply(strip_code, \"Currency\")"
   ]
  }
 ],
 "metadata": {
  "kernelspec": {
   "display_name": "Python 3.9.12 ('base')",
   "language": "python",
   "name": "python3"
  },
  "language_info": {
   "codemirror_mode": {
    "name": "ipython",
    "version": 3
   },
   "file_extension": ".py",
   "mimetype": "text/x-python",
   "name": "python",
   "nbconvert_exporter": "python",
   "pygments_lexer": "ipython3",
   "version": "3.9.12"
  },
  "orig_nbformat": 4,
  "vscode": {
   "interpreter": {
    "hash": "dd1b7ed9c8f0b28dd4e59977edf16205a79006c1ff19cada1d8ac1ea85cd2c85"
   }
  }
 },
 "nbformat": 4,
 "nbformat_minor": 2
}
