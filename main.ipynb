{
 "cells": [
  {
   "cell_type": "code",
   "execution_count": 66,
   "metadata": {},
   "outputs": [],
   "source": [
    "from datascience import *\n",
    "import numpy as np\n",
    "import re\n",
    "from re import search\n",
    "import requests\n",
    "from bs4 import BeautifulSoup\n",
    "from fuzzywuzzy import fuzz\n",
    "from fuzzywuzzy import process\n",
    "\n",
    "%matplotlib inline\n",
    "import matplotlib.pyplot as plots\n",
    "plots.style.use('fivethirtyeight')"
   ]
  },
  {
   "cell_type": "code",
   "execution_count": 67,
   "metadata": {},
   "outputs": [],
   "source": [
    "# scrape_table function from video demo\n",
    "import pandas as pd\n",
    "def scrape_table(table):\n",
    "    df = pd.read_html(str(table))\n",
    "    df = pd.DataFrame(df[0])\n",
    "    return Table.from_df(df)"
   ]
  },
  {
   "cell_type": "code",
   "execution_count": 68,
   "metadata": {},
   "outputs": [
    {
     "data": {
      "text/html": [
       "<table border=\"1\" class=\"dataframe\">\n",
       "    <thead>\n",
       "        <tr>\n",
       "            <th>Country</th> <th>Coke/Pepsi (0.33 liter bottle)</th>\n",
       "        </tr>\n",
       "    </thead>\n",
       "    <tbody>\n",
       "        <tr>\n",
       "            <td>Kazakhstan</td> <td>0.78                          </td>\n",
       "        </tr>\n",
       "        <tr>\n",
       "            <td>Paraguay  </td> <td>1.18                          </td>\n",
       "        </tr>\n",
       "        <tr>\n",
       "            <td>Portugal  </td> <td>1.96                          </td>\n",
       "        </tr>\n",
       "        <tr>\n",
       "            <td>Greece    </td> <td>2.53                          </td>\n",
       "        </tr>\n",
       "        <tr>\n",
       "            <td>Latvia    </td> <td>1.56                          </td>\n",
       "        </tr>\n",
       "        <tr>\n",
       "            <td>Iran      </td> <td>1.16                          </td>\n",
       "        </tr>\n",
       "        <tr>\n",
       "            <td>Morocco   </td> <td>0.63                          </td>\n",
       "        </tr>\n",
       "        <tr>\n",
       "            <td>Panama    </td> <td>2.04                          </td>\n",
       "        </tr>\n",
       "        <tr>\n",
       "            <td>Guatemala </td> <td>1.38                          </td>\n",
       "        </tr>\n",
       "        <tr>\n",
       "            <td>Iraq      </td> <td>0.58                          </td>\n",
       "        </tr>\n",
       "    </tbody>\n",
       "</table>\n",
       "<p>... (96 rows omitted)</p>"
      ],
      "text/plain": [
       "Country    | Coke/Pepsi (0.33 liter bottle)\n",
       "Kazakhstan | 0.78\n",
       "Paraguay   | 1.18\n",
       "Portugal   | 1.96\n",
       "Greece     | 2.53\n",
       "Latvia     | 1.56\n",
       "Iran       | 1.16\n",
       "Morocco    | 0.63\n",
       "Panama     | 2.04\n",
       "Guatemala  | 1.38\n",
       "Iraq       | 0.58\n",
       "... (96 rows omitted)"
      ]
     },
     "execution_count": 68,
     "metadata": {},
     "output_type": "execute_result"
    }
   ],
   "source": [
    "r = requests.get(\"https://www.numbeo.com/cost-of-living/prices_by_country.jsp?itemId=6&regionCode=019&displayCurrency=CAD\")\n",
    "coke_text = BeautifulSoup(r.text, \"html.parser\")\n",
    "coke_text_table = coke_text.find_all(\"table\")[1]\n",
    "coke_table = scrape_table(coke_text_table).drop(\"Rank\")\n",
    "coke_table"
   ]
  },
  {
   "cell_type": "code",
   "execution_count": 69,
   "metadata": {},
   "outputs": [],
   "source": [
    "def convert(cur_from, cur_to, amount):\n",
    "    payload = {\n",
    "        'from': cur_from,\n",
    "        'to': cur_to,\n",
    "        'amount': amount,\n",
    "        'api_key': '0a5659758c74b6dd01f96fdbc8fab87d'\n",
    "    }\n",
    "    r = requests.get('https://api.currencyscoop.com/v1/convert', params = payload)\n",
    "    currency = r.json()\n",
    "    return currency['response']['value']"
   ]
  },
  {
   "cell_type": "code",
   "execution_count": 70,
   "metadata": {},
   "outputs": [],
   "source": [
    "#stolen shamlessly from example code\n",
    "currency_url = \"https://currencyscoop.com/supported-currencies\"\n",
    "currency_request = requests.get(currency_url)\n",
    "currency_soup = BeautifulSoup(currency_request.text, 'html.parser')\n",
    "currency_table = currency_soup.find(\"table\")\n",
    "currency_codes = scrape_table(currency_table)\n",
    "\n",
    "codes = make_array()\n",
    "for each_country in currency_codes.column(\"Currency\"):\n",
    "    codes = np.append(codes, each_country[-3:])\n",
    "\n",
    "currency_codes = currency_codes.with_column(\"Code\", codes)\n",
    "\n",
    "def strip_code(country):\n",
    "    return country[:-3]\n",
    "\n",
    "currency_codes[\"Currency\"] = currency_codes.apply(strip_code, \"Currency\")"
   ]
  },
  {
   "cell_type": "code",
   "execution_count": 71,
   "metadata": {},
   "outputs": [],
   "source": [
    "import pycountry\n",
    "\n",
    "mapping = {country.name: country.alpha_2 for country in pycountry.countries}\n",
    "coke_table = coke_table.with_column(\"Country Code\", coke_table.apply(lambda x: mapping.get(x), \"Country\"))"
   ]
  },
  {
   "cell_type": "code",
   "execution_count": 72,
   "metadata": {},
   "outputs": [
    {
     "data": {
      "text/plain": [
       "numpy.str_"
      ]
     },
     "execution_count": 72,
     "metadata": {},
     "output_type": "execute_result"
    }
   ],
   "source": [
    "r = requests.get(\"https://www.iban.com/currency-codes\")\n",
    "currency_code_table = scrape_table(BeautifulSoup(r.text, \"html.parser\").find_all(\"table\")[0])\n",
    "type(currency_code_table.column(2)[0])"
   ]
  },
  {
   "cell_type": "code",
   "execution_count": 73,
   "metadata": {},
   "outputs": [
    {
     "name": "stderr",
     "output_type": "stream",
     "text": [
      "/Users/tpurewal/opt/anaconda3/lib/python3.9/site-packages/datascience/tables.py:558: VisibleDeprecationWarning: Creating an ndarray from ragged nested sequences (which is a list-or-tuple of lists-or-tuples-or ndarrays with different lengths or shapes) is deprecated. If you meant to do this, you must specify 'dtype=object' when creating the ndarray.\n",
      "  return np.array([fn(*row) for row in rows])\n"
     ]
    },
    {
     "data": {
      "text/html": [
       "<table border=\"1\" class=\"dataframe\">\n",
       "    <thead>\n",
       "        <tr>\n",
       "            <th>Country</th> <th>Coke/Pepsi (0.33 liter bottle)</th> <th>Country Code</th> <th>Currency Code</th>\n",
       "        </tr>\n",
       "    </thead>\n",
       "    <tbody>\n",
       "        <tr>\n",
       "            <td>Kazakhstan</td> <td>0.78                          </td> <td>KZ          </td> <td>KZT          </td>\n",
       "        </tr>\n",
       "        <tr>\n",
       "            <td>Paraguay  </td> <td>1.18                          </td> <td>PY          </td> <td>PYG          </td>\n",
       "        </tr>\n",
       "        <tr>\n",
       "            <td>Portugal  </td> <td>1.96                          </td> <td>PT          </td> <td>EUR          </td>\n",
       "        </tr>\n",
       "        <tr>\n",
       "            <td>Greece    </td> <td>2.53                          </td> <td>GR          </td> <td>EUR          </td>\n",
       "        </tr>\n",
       "        <tr>\n",
       "            <td>Latvia    </td> <td>1.56                          </td> <td>LV          </td> <td>EUR          </td>\n",
       "        </tr>\n",
       "        <tr>\n",
       "            <td>Iran      </td> <td>1.16                          </td> <td>None        </td> <td>             </td>\n",
       "        </tr>\n",
       "        <tr>\n",
       "            <td>Morocco   </td> <td>0.63                          </td> <td>MA          </td> <td>MAD          </td>\n",
       "        </tr>\n",
       "        <tr>\n",
       "            <td>Panama    </td> <td>2.04                          </td> <td>PA          </td> <td>PAB          </td>\n",
       "        </tr>\n",
       "        <tr>\n",
       "            <td>Guatemala </td> <td>1.38                          </td> <td>GT          </td> <td>GTQ          </td>\n",
       "        </tr>\n",
       "        <tr>\n",
       "            <td>Iraq      </td> <td>0.58                          </td> <td>IQ          </td> <td>IQD          </td>\n",
       "        </tr>\n",
       "    </tbody>\n",
       "</table>\n",
       "<p>... (96 rows omitted)</p>"
      ],
      "text/plain": [
       "Country    | Coke/Pepsi (0.33 liter bottle) | Country Code | Currency Code\n",
       "Kazakhstan | 0.78                           | KZ           | KZT\n",
       "Paraguay   | 1.18                           | PY           | PYG\n",
       "Portugal   | 1.96                           | PT           | EUR\n",
       "Greece     | 2.53                           | GR           | EUR\n",
       "Latvia     | 1.56                           | LV           | EUR\n",
       "Iran       | 1.16                           | None         |\n",
       "Morocco    | 0.63                           | MA           | MAD\n",
       "Panama     | 2.04                           | PA           | PAB\n",
       "Guatemala  | 1.38                           | GT           | GTQ\n",
       "Iraq       | 0.58                           | IQ           | IQD\n",
       "... (96 rows omitted)"
      ]
     },
     "execution_count": 73,
     "metadata": {},
     "output_type": "execute_result"
    }
   ],
   "source": [
    "def get_currency_code(country):\n",
    "    i = np.where(currency_code_table.column(\"Country\") == country.upper())\n",
    "    return currency_code_table.column(\"Code\")[i]\n",
    "\n",
    "def clean_currency_code(code):\n",
    "    cleaned_code = np.array_str(code)[2:5]\n",
    "    return cleaned_code\n",
    "\n",
    "coke_table = coke_table.with_column(\"Currency Code\", coke_table.apply(get_currency_code, \"Country\"))\n",
    "coke_table = coke_table.with_column(\"Currency Code\", coke_table.apply(clean_currency_code, \"Currency Code\"))\n",
    "\n",
    "coke_table"
   ]
  },
  {
   "cell_type": "code",
   "execution_count": 74,
   "metadata": {},
   "outputs": [
    {
     "data": {
      "text/html": [
       "<table border=\"1\" class=\"dataframe\">\n",
       "    <thead>\n",
       "        <tr>\n",
       "            <th>Country</th> <th>Coke/Pepsi (0.33 liter bottle)</th> <th>Country Code</th> <th>Currency Code</th> <th>GST Rate</th>\n",
       "        </tr>\n",
       "    </thead>\n",
       "    <tbody>\n",
       "        <tr>\n",
       "            <td>Kazakhstan</td> <td>0.78                          </td> <td>KZ          </td> <td>KZT          </td> <td>0%      </td>\n",
       "        </tr>\n",
       "        <tr>\n",
       "            <td>Paraguay  </td> <td>1.18                          </td> <td>PY          </td> <td>PYG          </td> <td>0%      </td>\n",
       "        </tr>\n",
       "        <tr>\n",
       "            <td>Portugal  </td> <td>1.96                          </td> <td>PT          </td> <td>EUR          </td> <td>0%      </td>\n",
       "        </tr>\n",
       "        <tr>\n",
       "            <td>Greece    </td> <td>2.53                          </td> <td>GR          </td> <td>EUR          </td> <td>0%      </td>\n",
       "        </tr>\n",
       "        <tr>\n",
       "            <td>Latvia    </td> <td>1.56                          </td> <td>LV          </td> <td>EUR          </td> <td>0%      </td>\n",
       "        </tr>\n",
       "        <tr>\n",
       "            <td>Iran      </td> <td>1.16                          </td> <td>None        </td> <td>             </td> <td>0%      </td>\n",
       "        </tr>\n",
       "        <tr>\n",
       "            <td>Morocco   </td> <td>0.63                          </td> <td>MA          </td> <td>MAD          </td> <td>0%      </td>\n",
       "        </tr>\n",
       "        <tr>\n",
       "            <td>Panama    </td> <td>2.04                          </td> <td>PA          </td> <td>PAB          </td> <td>0%      </td>\n",
       "        </tr>\n",
       "        <tr>\n",
       "            <td>Guatemala </td> <td>1.38                          </td> <td>GT          </td> <td>GTQ          </td> <td>0%      </td>\n",
       "        </tr>\n",
       "        <tr>\n",
       "            <td>Iraq      </td> <td>0.58                          </td> <td>IQ          </td> <td>IQD          </td> <td>0%      </td>\n",
       "        </tr>\n",
       "    </tbody>\n",
       "</table>\n",
       "<p>... (96 rows omitted)</p>"
      ],
      "text/plain": [
       "Country    | Coke/Pepsi (0.33 liter bottle) | Country Code | Currency Code | GST Rate\n",
       "Kazakhstan | 0.78                           | KZ           | KZT           | 0%\n",
       "Paraguay   | 1.18                           | PY           | PYG           | 0%\n",
       "Portugal   | 1.96                           | PT           | EUR           | 0%\n",
       "Greece     | 2.53                           | GR           | EUR           | 0%\n",
       "Latvia     | 1.56                           | LV           | EUR           | 0%\n",
       "Iran       | 1.16                           | None         |               | 0%\n",
       "Morocco    | 0.63                           | MA           | MAD           | 0%\n",
       "Panama     | 2.04                           | PA           | PAB           | 0%\n",
       "Guatemala  | 1.38                           | GT           | GTQ           | 0%\n",
       "Iraq       | 0.58                           | IQ           | IQD           | 0%\n",
       "... (96 rows omitted)"
      ]
     },
     "execution_count": 74,
     "metadata": {},
     "output_type": "execute_result"
    }
   ],
   "source": [
    "# tidy up currency symbol and GST rate\n",
    "currencies = make_array()\n",
    "gst_rates = make_array()\n",
    "\n",
    "# loop through each country\n",
    "for each_country in coke_table.column(\"Country\"):\n",
    "    # grab currency symbol only\n",
    "  \n",
    "\n",
    "    # grab GST rate only -- some countries don't have one, so I used regex to find perfect match\n",
    "    match = search(\"\\d\\d%\", each_country)\n",
    "    if match != None:\n",
    "        gst_rates = np.append(gst_rates, match.group(0))\n",
    "\n",
    "    else:\n",
    "        gst_rates = np.append(gst_rates, '0%')\n",
    "\n",
    "# tack on new columns\n",
    "coke_table = coke_table.with_column(\"GST Rate\", gst_rates)\n",
    "coke_table"
   ]
  }
 ],
 "metadata": {
  "kernelspec": {
   "display_name": "Python 3.9.12 ('base')",
   "language": "python",
   "name": "python3"
  },
  "language_info": {
   "codemirror_mode": {
    "name": "ipython",
    "version": 3
   },
   "file_extension": ".py",
   "mimetype": "text/x-python",
   "name": "python",
   "nbconvert_exporter": "python",
   "pygments_lexer": "ipython3",
   "version": "3.9.12"
  },
  "orig_nbformat": 4,
  "vscode": {
   "interpreter": {
    "hash": "dd1b7ed9c8f0b28dd4e59977edf16205a79006c1ff19cada1d8ac1ea85cd2c85"
   }
  }
 },
 "nbformat": 4,
 "nbformat_minor": 2
}
